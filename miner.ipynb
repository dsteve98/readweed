{
 "cells": [
  {
   "cell_type": "markdown",
   "metadata": {},
   "source": [
    "# Using Tweepy to mine data from twitter\n",
    "\n",
    "guide from https://marcobonzanini.com/2015/03/02/mining-twitter-data-with-python-part-1/"
   ]
  },
  {
   "cell_type": "code",
   "execution_count": 1,
   "metadata": {
    "collapsed": false
   },
   "outputs": [],
   "source": [
    "import tweepy\n",
    "from tweepy import OAuthHandler\n",
    "import simplejson as json\n",
    "import config"
   ]
  },
  {
   "cell_type": "code",
   "execution_count": 3,
   "metadata": {
    "collapsed": false
   },
   "outputs": [],
   "source": [
    "\n",
    "auth = OAuthHandler(config.consumer_key, config.consumer_secret)\n",
    "auth.set_access_token(config.access_token, config.access_secret)\n",
    " \n",
    "api = tweepy.API(auth)"
   ]
  },
  {
   "cell_type": "code",
   "execution_count": 4,
   "metadata": {
    "collapsed": true
   },
   "outputs": [],
   "source": [
    "def process_or_store(statuses,strname):\n",
    "    with open(strname,'w') as f:\n",
    "        for status in statuses:\n",
    "            print(json.dumps(status._json))\n",
    "            json.dump(status._json,f)\n",
    "            f.write('\\n')"
   ]
  },
  {
   "cell_type": "code",
   "execution_count": 5,
   "metadata": {
    "collapsed": true
   },
   "outputs": [],
   "source": [
    "def tweetfunct(task,amount=10):\n",
    "    if(task==\"htl\"):\n",
    "        statuses = tweepy.Cursor(api.home_timeline).items(amount)\n",
    "        strname = \"home_timeline.json\"\n",
    "    elif(task==\"friends\"):\n",
    "        statuses = tweepy.Cursor(api.friends).items()\n",
    "        strname = \"friends.json\"\n",
    "    elif(task==\"utl\"):\n",
    "        statuses = tweepy.Cursor(api.user_timeline).items(amount)\n",
    "        strname = \"user_timeline.json\"\n",
    "    else:\n",
    "        print(\"no task\")\n",
    "    process_or_store(statuses,strname)"
   ]
  },
  {
   "cell_type": "code",
   "execution_count": 6,
   "metadata": {
    "collapsed": false,
    "scrolled": true
   },
   "outputs": [
    {
     "name": "stdout",
     "output_type": "stream",
     "text": [
      "{\"created_at\": \"Tue Mar 26 03:06:14 +0000 2019\", \"id\": 1110377391052845056, \"id_str\": \"1110377391052845056\", \"text\": \"@Fajarbaskoro11 https://t.co/1c9U2IQIkm\", \"truncated\": false, \"entities\": {\"hashtags\": [], \"symbols\": [], \"user_mentions\": [{\"screen_name\": \"Fajarbaskoro11\", \"name\": \"Fajarbaskoro1\", \"id\": 1735836350, \"id_str\": \"1735836350\", \"indices\": [0, 15]}], \"urls\": [{\"url\": \"https://t.co/1c9U2IQIkm\", \"expanded_url\": \"https://d-stv.blogspot.com/2019/03/kak-proposal-dan-project-charter.html\", \"display_url\": \"d-stv.blogspot.com/2019/03/kak-pr\\u2026\", \"indices\": [16, 39]}]}, \"source\": \"<a href=\\\"http://twitter.com\\\" rel=\\\"nofollow\\\">Twitter Web Client</a>\", \"in_reply_to_status_id\": 1107859511967019008, \"in_reply_to_status_id_str\": \"1107859511967019008\", \"in_reply_to_user_id\": 321952904, \"in_reply_to_user_id_str\": \"321952904\", \"in_reply_to_screen_name\": \"Steve_Danielz\", \"user\": {\"id\": 321952904, \"id_str\": \"321952904\", \"name\": \"Steve Daniels\", \"screen_name\": \"Steve_Danielz\", \"location\": \"nowhere\", \"description\": \"Sepuluh Nopember Institute of Technology\", \"url\": null, \"entities\": {\"description\": {\"urls\": []}}, \"protected\": false, \"followers_count\": 41, \"friends_count\": 47, \"listed_count\": 0, \"created_at\": \"Wed Jun 22 12:02:53 +0000 2011\", \"favourites_count\": 2, \"utc_offset\": null, \"time_zone\": null, \"geo_enabled\": false, \"verified\": false, \"statuses_count\": 699, \"lang\": null, \"contributors_enabled\": false, \"is_translator\": false, \"is_translation_enabled\": false, \"profile_background_color\": \"C0DEED\", \"profile_background_image_url\": \"http://abs.twimg.com/images/themes/theme1/bg.png\", \"profile_background_image_url_https\": \"https://abs.twimg.com/images/themes/theme1/bg.png\", \"profile_background_tile\": false, \"profile_image_url\": \"http://pbs.twimg.com/profile_images/908602898526830595/sQir9DA2_normal.jpg\", \"profile_image_url_https\": \"https://pbs.twimg.com/profile_images/908602898526830595/sQir9DA2_normal.jpg\", \"profile_link_color\": \"0084B4\", \"profile_sidebar_border_color\": \"C0DEED\", \"profile_sidebar_fill_color\": \"DDEEF6\", \"profile_text_color\": \"333333\", \"profile_use_background_image\": true, \"has_extended_profile\": false, \"default_profile\": false, \"default_profile_image\": false, \"following\": false, \"follow_request_sent\": false, \"notifications\": false, \"translator_type\": \"none\"}, \"geo\": null, \"coordinates\": null, \"place\": null, \"contributors\": null, \"is_quote_status\": false, \"retweet_count\": 0, \"favorite_count\": 0, \"favorited\": false, \"retweeted\": false, \"possibly_sensitive\": false, \"lang\": \"und\"}\n",
      "{\"created_at\": \"Tue Mar 19 04:21:05 +0000 2019\", \"id\": 1107859511967019008, \"id_str\": \"1107859511967019008\", \"text\": \"@Fajarbaskoro11 Steve Daniels 05111640000084\\nM. Ivan Riansyah 05111640000093\", \"truncated\": false, \"entities\": {\"hashtags\": [], \"symbols\": [], \"user_mentions\": [{\"screen_name\": \"Fajarbaskoro11\", \"name\": \"Fajarbaskoro1\", \"id\": 1735836350, \"id_str\": \"1735836350\", \"indices\": [0, 15]}], \"urls\": []}, \"source\": \"<a href=\\\"https://mobile.twitter.com\\\" rel=\\\"nofollow\\\">Twitter Web App</a>\", \"in_reply_to_status_id\": 1107858414749663233, \"in_reply_to_status_id_str\": \"1107858414749663233\", \"in_reply_to_user_id\": 1735836350, \"in_reply_to_user_id_str\": \"1735836350\", \"in_reply_to_screen_name\": \"Fajarbaskoro11\", \"user\": {\"id\": 321952904, \"id_str\": \"321952904\", \"name\": \"Steve Daniels\", \"screen_name\": \"Steve_Danielz\", \"location\": \"nowhere\", \"description\": \"Sepuluh Nopember Institute of Technology\", \"url\": null, \"entities\": {\"description\": {\"urls\": []}}, \"protected\": false, \"followers_count\": 41, \"friends_count\": 47, \"listed_count\": 0, \"created_at\": \"Wed Jun 22 12:02:53 +0000 2011\", \"favourites_count\": 2, \"utc_offset\": null, \"time_zone\": null, \"geo_enabled\": false, \"verified\": false, \"statuses_count\": 699, \"lang\": null, \"contributors_enabled\": false, \"is_translator\": false, \"is_translation_enabled\": false, \"profile_background_color\": \"C0DEED\", \"profile_background_image_url\": \"http://abs.twimg.com/images/themes/theme1/bg.png\", \"profile_background_image_url_https\": \"https://abs.twimg.com/images/themes/theme1/bg.png\", \"profile_background_tile\": false, \"profile_image_url\": \"http://pbs.twimg.com/profile_images/908602898526830595/sQir9DA2_normal.jpg\", \"profile_image_url_https\": \"https://pbs.twimg.com/profile_images/908602898526830595/sQir9DA2_normal.jpg\", \"profile_link_color\": \"0084B4\", \"profile_sidebar_border_color\": \"C0DEED\", \"profile_sidebar_fill_color\": \"DDEEF6\", \"profile_text_color\": \"333333\", \"profile_use_background_image\": true, \"has_extended_profile\": false, \"default_profile\": false, \"default_profile_image\": false, \"following\": false, \"follow_request_sent\": false, \"notifications\": false, \"translator_type\": \"none\"}, \"geo\": null, \"coordinates\": null, \"place\": null, \"contributors\": null, \"is_quote_status\": false, \"retweet_count\": 0, \"favorite_count\": 0, \"favorited\": false, \"retweeted\": false, \"lang\": \"en\"}\n",
      "{\"created_at\": \"Tue Feb 19 15:06:32 +0000 2019\", \"id\": 1097875083375210496, \"id_str\": \"1097875083375210496\", \"text\": \"@Fajarbaskoro11 Nama : Ariiq Firanda Naufal\\nNRP : 5111640000083\\nKelas : MPPL E\\nLink: https://t.co/MyfzkmnGRC\", \"truncated\": false, \"entities\": {\"hashtags\": [], \"symbols\": [], \"user_mentions\": [{\"screen_name\": \"Fajarbaskoro11\", \"name\": \"Fajarbaskoro1\", \"id\": 1735836350, \"id_str\": \"1735836350\", \"indices\": [0, 15]}], \"urls\": [{\"url\": \"https://t.co/MyfzkmnGRC\", \"expanded_url\": \"https://darkef.wordpress.com/2019/02/19/mppl-tugas-1-deskripsi-dan-inisiasi-proyek/\", \"display_url\": \"darkef.wordpress.com/2019/02/19/mpp\\u2026\", \"indices\": [85, 108]}]}, \"source\": \"<a href=\\\"http://twitter.com\\\" rel=\\\"nofollow\\\">Twitter Web Client</a>\", \"in_reply_to_status_id\": 1095527259413204993, \"in_reply_to_status_id_str\": \"1095527259413204993\", \"in_reply_to_user_id\": 1735836350, \"in_reply_to_user_id_str\": \"1735836350\", \"in_reply_to_screen_name\": \"Fajarbaskoro11\", \"user\": {\"id\": 321952904, \"id_str\": \"321952904\", \"name\": \"Steve Daniels\", \"screen_name\": \"Steve_Danielz\", \"location\": \"nowhere\", \"description\": \"Sepuluh Nopember Institute of Technology\", \"url\": null, \"entities\": {\"description\": {\"urls\": []}}, \"protected\": false, \"followers_count\": 41, \"friends_count\": 47, \"listed_count\": 0, \"created_at\": \"Wed Jun 22 12:02:53 +0000 2011\", \"favourites_count\": 2, \"utc_offset\": null, \"time_zone\": null, \"geo_enabled\": false, \"verified\": false, \"statuses_count\": 699, \"lang\": null, \"contributors_enabled\": false, \"is_translator\": false, \"is_translation_enabled\": false, \"profile_background_color\": \"C0DEED\", \"profile_background_image_url\": \"http://abs.twimg.com/images/themes/theme1/bg.png\", \"profile_background_image_url_https\": \"https://abs.twimg.com/images/themes/theme1/bg.png\", \"profile_background_tile\": false, \"profile_image_url\": \"http://pbs.twimg.com/profile_images/908602898526830595/sQir9DA2_normal.jpg\", \"profile_image_url_https\": \"https://pbs.twimg.com/profile_images/908602898526830595/sQir9DA2_normal.jpg\", \"profile_link_color\": \"0084B4\", \"profile_sidebar_border_color\": \"C0DEED\", \"profile_sidebar_fill_color\": \"DDEEF6\", \"profile_text_color\": \"333333\", \"profile_use_background_image\": true, \"has_extended_profile\": false, \"default_profile\": false, \"default_profile_image\": false, \"following\": false, \"follow_request_sent\": false, \"notifications\": false, \"translator_type\": \"none\"}, \"geo\": null, \"coordinates\": null, \"place\": null, \"contributors\": null, \"is_quote_status\": false, \"retweet_count\": 0, \"favorite_count\": 0, \"favorited\": false, \"retweeted\": false, \"possibly_sensitive\": false, \"lang\": \"in\"}\n",
      "{\"created_at\": \"Fri Sep 15 04:05:20 +0000 2017\", \"id\": 908542221770670080, \"id_str\": \"908542221770670080\", \"text\": \"@Fajarbaskoro11\\nSteve Daniels\\n5116100084\\nhttps://t.co/gPnn9nZXfG\", \"truncated\": false, \"entities\": {\"hashtags\": [], \"symbols\": [], \"user_mentions\": [{\"screen_name\": \"Fajarbaskoro11\", \"name\": \"Fajarbaskoro1\", \"id\": 1735836350, \"id_str\": \"1735836350\", \"indices\": [0, 15]}], \"urls\": [{\"url\": \"https://t.co/gPnn9nZXfG\", \"expanded_url\": \"http://d-stv.blogspot.co.id/2017/09/konversi-waktu-menggunakan-java.html\", \"display_url\": \"d-stv.blogspot.co.id/2017/09/konver\\u2026\", \"indices\": [41, 64]}]}, \"source\": \"<a href=\\\"http://twitter.com\\\" rel=\\\"nofollow\\\">Twitter Web Client</a>\", \"in_reply_to_status_id\": null, \"in_reply_to_status_id_str\": null, \"in_reply_to_user_id\": 1735836350, \"in_reply_to_user_id_str\": \"1735836350\", \"in_reply_to_screen_name\": \"Fajarbaskoro11\", \"user\": {\"id\": 321952904, \"id_str\": \"321952904\", \"name\": \"Steve Daniels\", \"screen_name\": \"Steve_Danielz\", \"location\": \"nowhere\", \"description\": \"Sepuluh Nopember Institute of Technology\", \"url\": null, \"entities\": {\"description\": {\"urls\": []}}, \"protected\": false, \"followers_count\": 41, \"friends_count\": 47, \"listed_count\": 0, \"created_at\": \"Wed Jun 22 12:02:53 +0000 2011\", \"favourites_count\": 2, \"utc_offset\": null, \"time_zone\": null, \"geo_enabled\": false, \"verified\": false, \"statuses_count\": 699, \"lang\": null, \"contributors_enabled\": false, \"is_translator\": false, \"is_translation_enabled\": false, \"profile_background_color\": \"C0DEED\", \"profile_background_image_url\": \"http://abs.twimg.com/images/themes/theme1/bg.png\", \"profile_background_image_url_https\": \"https://abs.twimg.com/images/themes/theme1/bg.png\", \"profile_background_tile\": false, \"profile_image_url\": \"http://pbs.twimg.com/profile_images/908602898526830595/sQir9DA2_normal.jpg\", \"profile_image_url_https\": \"https://pbs.twimg.com/profile_images/908602898526830595/sQir9DA2_normal.jpg\", \"profile_link_color\": \"0084B4\", \"profile_sidebar_border_color\": \"C0DEED\", \"profile_sidebar_fill_color\": \"DDEEF6\", \"profile_text_color\": \"333333\", \"profile_use_background_image\": true, \"has_extended_profile\": false, \"default_profile\": false, \"default_profile_image\": false, \"following\": false, \"follow_request_sent\": false, \"notifications\": false, \"translator_type\": \"none\"}, \"geo\": null, \"coordinates\": null, \"place\": null, \"contributors\": null, \"is_quote_status\": false, \"retweet_count\": 0, \"favorite_count\": 0, \"favorited\": false, \"retweeted\": false, \"possibly_sensitive\": false, \"lang\": \"en\"}\n",
      "{\"created_at\": \"Wed Aug 28 13:24:57 +0000 2013\", \"id\": 372711401300975617, \"id_str\": \"372711401300975617\", \"text\": \"Nasib...\", \"truncated\": false, \"entities\": {\"hashtags\": [], \"symbols\": [], \"user_mentions\": [], \"urls\": []}, \"source\": \"<a href=\\\"http://twitter.com/download/android\\\" rel=\\\"nofollow\\\">Twitter for Android</a>\", \"in_reply_to_status_id\": null, \"in_reply_to_status_id_str\": null, \"in_reply_to_user_id\": null, \"in_reply_to_user_id_str\": null, \"in_reply_to_screen_name\": null, \"user\": {\"id\": 321952904, \"id_str\": \"321952904\", \"name\": \"Steve Daniels\", \"screen_name\": \"Steve_Danielz\", \"location\": \"nowhere\", \"description\": \"Sepuluh Nopember Institute of Technology\", \"url\": null, \"entities\": {\"description\": {\"urls\": []}}, \"protected\": false, \"followers_count\": 41, \"friends_count\": 47, \"listed_count\": 0, \"created_at\": \"Wed Jun 22 12:02:53 +0000 2011\", \"favourites_count\": 2, \"utc_offset\": null, \"time_zone\": null, \"geo_enabled\": false, \"verified\": false, \"statuses_count\": 699, \"lang\": null, \"contributors_enabled\": false, \"is_translator\": false, \"is_translation_enabled\": false, \"profile_background_color\": \"C0DEED\", \"profile_background_image_url\": \"http://abs.twimg.com/images/themes/theme1/bg.png\", \"profile_background_image_url_https\": \"https://abs.twimg.com/images/themes/theme1/bg.png\", \"profile_background_tile\": false, \"profile_image_url\": \"http://pbs.twimg.com/profile_images/908602898526830595/sQir9DA2_normal.jpg\", \"profile_image_url_https\": \"https://pbs.twimg.com/profile_images/908602898526830595/sQir9DA2_normal.jpg\", \"profile_link_color\": \"0084B4\", \"profile_sidebar_border_color\": \"C0DEED\", \"profile_sidebar_fill_color\": \"DDEEF6\", \"profile_text_color\": \"333333\", \"profile_use_background_image\": true, \"has_extended_profile\": false, \"default_profile\": false, \"default_profile_image\": false, \"following\": false, \"follow_request_sent\": false, \"notifications\": false, \"translator_type\": \"none\"}, \"geo\": null, \"coordinates\": null, \"place\": null, \"contributors\": null, \"is_quote_status\": false, \"retweet_count\": 1, \"favorite_count\": 1, \"favorited\": false, \"retweeted\": false, \"lang\": \"in\"}\n"
     ]
    }
   ],
   "source": [
    "tweetfunct(\"utl\",5)"
   ]
  },
  {
   "cell_type": "code",
   "execution_count": 37,
   "metadata": {
    "collapsed": false,
    "scrolled": true
   },
   "outputs": [
    {
     "name": "stdout",
     "output_type": "stream",
     "text": [
      "{\n",
      "    \"created_at\": \"Sat Feb 06 06:30:52 +0000 2021\",\n",
      "    \"id\": 1357939800502792195,\n",
      "    \"id_str\": \"1357939800502792195\",\n",
      "    \"text\": \"Kebahagiaan tercipta saat penderitaan telah sirna\\nPenderitaan muncul ketika kebahagiaan telah berlalu\\nBahagia dan k\\u2026 https://t.co/0jzG65TJCQ\",\n",
      "    \"truncated\": true,\n",
      "    \"entities\": {\n",
      "        \"hashtags\": [],\n",
      "        \"symbols\": [],\n",
      "        \"user_mentions\": [],\n",
      "        \"urls\": [\n",
      "            {\n",
      "                \"url\": \"https://t.co/0jzG65TJCQ\",\n",
      "                \"expanded_url\": \"https://twitter.com/i/web/status/1357939800502792195\",\n",
      "                \"display_url\": \"twitter.com/i/web/status/1\\u2026\",\n",
      "                \"indices\": [\n",
      "                    117,\n",
      "                    140\n",
      "                ]\n",
      "            }\n",
      "        ]\n",
      "    },\n",
      "    \"source\": \"<a href=\\\"https://mobile.twitter.com\\\" rel=\\\"nofollow\\\">Twitter Web App</a>\",\n",
      "    \"in_reply_to_status_id\": null,\n",
      "    \"in_reply_to_status_id_str\": null,\n",
      "    \"in_reply_to_user_id\": null,\n",
      "    \"in_reply_to_user_id_str\": null,\n",
      "    \"in_reply_to_screen_name\": null,\n",
      "    \"user\": {\n",
      "        \"id\": 318945176,\n",
      "        \"id_str\": \"318945176\",\n",
      "        \"name\": \"Antonio Wewengkang\",\n",
      "        \"screen_name\": \"Antonio_Vincen\",\n",
      "        \"location\": \"BEKASI\",\n",
      "        \"description\": \"\",\n",
      "        \"url\": null,\n",
      "        \"entities\": {\n",
      "            \"description\": {\n",
      "                \"urls\": []\n",
      "            }\n",
      "        },\n",
      "        \"protected\": true,\n",
      "        \"followers_count\": 311,\n",
      "        \"friends_count\": 255,\n",
      "        \"listed_count\": 0,\n",
      "        \"created_at\": \"Fri Jun 17 09:31:03 +0000 2011\",\n",
      "        \"favourites_count\": 118,\n",
      "        \"utc_offset\": null,\n",
      "        \"time_zone\": null,\n",
      "        \"geo_enabled\": true,\n",
      "        \"verified\": false,\n",
      "        \"statuses_count\": 4195,\n",
      "        \"lang\": null,\n",
      "        \"contributors_enabled\": false,\n",
      "        \"is_translator\": false,\n",
      "        \"is_translation_enabled\": false,\n",
      "        \"profile_background_color\": \"1A1B1F\",\n",
      "        \"profile_background_image_url\": \"http://abs.twimg.com/images/themes/theme9/bg.gif\",\n",
      "        \"profile_background_image_url_https\": \"https://abs.twimg.com/images/themes/theme9/bg.gif\",\n",
      "        \"profile_background_tile\": true,\n",
      "        \"profile_image_url\": \"http://pbs.twimg.com/profile_images/1312901243660984320/cHwWWV_c_normal.jpg\",\n",
      "        \"profile_image_url_https\": \"https://pbs.twimg.com/profile_images/1312901243660984320/cHwWWV_c_normal.jpg\",\n",
      "        \"profile_banner_url\": \"https://pbs.twimg.com/profile_banners/318945176/1427837660\",\n",
      "        \"profile_link_color\": \"2FC2EF\",\n",
      "        \"profile_sidebar_border_color\": \"FFFFFF\",\n",
      "        \"profile_sidebar_fill_color\": \"252429\",\n",
      "        \"profile_text_color\": \"666666\",\n",
      "        \"profile_use_background_image\": true,\n",
      "        \"has_extended_profile\": true,\n",
      "        \"default_profile\": false,\n",
      "        \"default_profile_image\": false,\n",
      "        \"following\": true,\n",
      "        \"follow_request_sent\": false,\n",
      "        \"notifications\": false,\n",
      "        \"translator_type\": \"none\"\n",
      "    },\n",
      "    \"geo\": null,\n",
      "    \"coordinates\": null,\n",
      "    \"place\": null,\n",
      "    \"contributors\": null,\n",
      "    \"is_quote_status\": false,\n",
      "    \"retweet_count\": 0,\n",
      "    \"favorite_count\": 0,\n",
      "    \"favorited\": false,\n",
      "    \"retweeted\": false,\n",
      "    \"lang\": \"in\"\n",
      "}\n"
     ]
    }
   ],
   "source": [
    "with open('home_timeline.json', 'r') as f:\n",
    "    line = f.readline() # read only the first tweet/line\n",
    "    tweet = json.loads(line) # load it as Python dict\n",
    "    print(json.dumps(tweet, indent=4))"
   ]
  },
  {
   "cell_type": "code",
   "execution_count": 38,
   "metadata": {
    "collapsed": false,
    "scrolled": true
   },
   "outputs": [
    {
     "name": "stdout",
     "output_type": "stream",
     "text": [
      "['RT', '@marcobonzanini', ':', 'just', 'an', 'example', '!', ':D', 'http://example.com', '#NLP']\n"
     ]
    }
   ],
   "source": [
    "import re\n",
    " \n",
    "emoticons_str = r\"\"\"\n",
    "    (?:\n",
    "        [:=;] # Eyes\n",
    "        [oO\\-]? # Nose (optional)\n",
    "        [D\\)\\]\\(\\]/\\\\OpP] # Mouth\n",
    "    )\"\"\"\n",
    " \n",
    "regex_str = [\n",
    "    emoticons_str,\n",
    "    r'<[^>]+>', # HTML tags\n",
    "    r'(?:@[\\w_]+)', # @-mentions\n",
    "    r\"(?:\\#+[\\w_]+[\\w\\'_\\-]*[\\w_]+)\", # hash-tags\n",
    "    r'http[s]?://(?:[a-z]|[0-9]|[$-_@.&amp;+]|[!*\\(\\),]|(?:%[0-9a-f][0-9a-f]))+', # URLs\n",
    " \n",
    "    r'(?:(?:\\d+,?)+(?:\\.?\\d+)?)', # numbers\n",
    "    r\"(?:[a-z][a-z'\\-_]+[a-z])\", # words with - and '\n",
    "    r'(?:[\\w_]+)', # other words\n",
    "    r'(?:\\S)' # anything else\n",
    "]\n",
    "    \n",
    "tokens_re = re.compile(r'('+'|'.join(regex_str)+')', re.VERBOSE | re.IGNORECASE)\n",
    "emoticon_re = re.compile(r'^'+emoticons_str+'$', re.VERBOSE | re.IGNORECASE)\n",
    " \n",
    "def tokenize(s):\n",
    "    return tokens_re.findall(s)\n",
    " \n",
    "def preprocess(s, lowercase=False):\n",
    "    tokens = tokenize(s)\n",
    "    if lowercase:\n",
    "        tokens = [token if emoticon_re.search(token) else token.lower() for token in tokens]\n",
    "    return tokens\n",
    " \n",
    "tweet = 'RT @marcobonzanini: just an example! :D http://example.com #NLP'\n",
    "print(preprocess(tweet))\n",
    "# ['RT', '@marcobonzanini', ':', 'just', 'an', 'example', '!', ':D', 'http://example.com', '#NLP']"
   ]
  },
  {
   "cell_type": "code",
   "execution_count": 39,
   "metadata": {
    "collapsed": false
   },
   "outputs": [
    {
     "name": "stdout",
     "output_type": "stream",
     "text": [
      "[('Beasiswa', 5), (',', 5), ('di', 4), ('University', 3), ('of', 3)]\n"
     ]
    }
   ],
   "source": [
    "import operator \n",
    "from collections import Counter\n",
    " \n",
    "fname = 'home_timeline.json'\n",
    "with open(fname, 'r') as f:\n",
    "    count_all = Counter()\n",
    "    for line in f:\n",
    "        tweet = json.loads(line)\n",
    "        # Create a list with all the terms\n",
    "        terms_all = [term for term in preprocess(tweet['text'])]\n",
    "        # Update the counter\n",
    "        count_all.update(terms_all)\n",
    "    # Print the first 5 most frequent words\n",
    "    print(count_all.most_common(5))"
   ]
  },
  {
   "cell_type": "code",
   "execution_count": 43,
   "metadata": {
    "collapsed": false
   },
   "outputs": [],
   "source": [
    "from nltk.corpus import stopwords\n",
    "import string\n",
    " \n",
    "punctuation = list(string.punctuation)\n",
    "stop = stopwords.words('indonesian') + punctuation + ['rt', 'via']\n",
    "\n",
    "terms_stop = [term for term in preprocess(tweet['text']) if term not in stop]"
   ]
  },
  {
   "cell_type": "code",
   "execution_count": 44,
   "metadata": {
    "collapsed": false
   },
   "outputs": [
    {
     "name": "stdout",
     "output_type": "stream",
     "text": [
      "['https://t.co/ohAR7Q6WYy', 'Beasiswa', 'Musik', 'Royal', 'Academy', 'of', 'Music', 'INGGRIS']\n"
     ]
    }
   ],
   "source": [
    "print(terms_stop)"
   ]
  },
  {
   "cell_type": "code",
   "execution_count": 45,
   "metadata": {
    "collapsed": false
   },
   "outputs": [
    {
     "name": "stdout",
     "output_type": "stream",
     "text": [
      "[('Beasiswa', 5), ('University', 3), ('of', 3), ('INGGRIS', 3), ('…', 2)]\n"
     ]
    }
   ],
   "source": [
    "with open(fname, 'r') as f:\n",
    "    count_all = Counter()\n",
    "    for line in f:\n",
    "        tweet = json.loads(line)\n",
    "        # Create a list with all the terms\n",
    "        terms_stop = [term for term in preprocess(tweet['text']) if term not in stop]\n",
    "        # Update the counter\n",
    "        count_all.update(terms_stop)\n",
    "    # Print the first 5 most frequent words\n",
    "    print(count_all.most_common(5))"
   ]
  },
  {
   "cell_type": "code",
   "execution_count": null,
   "metadata": {
    "collapsed": false
   },
   "outputs": [],
   "source": []
  },
  {
   "cell_type": "code",
   "execution_count": null,
   "metadata": {
    "collapsed": true
   },
   "outputs": [],
   "source": []
  }
 ],
 "metadata": {
  "anaconda-cloud": {},
  "kernelspec": {
   "display_name": "Python [conda env:datsci_base]",
   "language": "python",
   "name": "conda-env-datsci_base-py"
  },
  "language_info": {
   "codemirror_mode": {
    "name": "ipython",
    "version": 3
   },
   "file_extension": ".py",
   "mimetype": "text/x-python",
   "name": "python",
   "nbconvert_exporter": "python",
   "pygments_lexer": "ipython3",
   "version": "3.6.12"
  }
 },
 "nbformat": 4,
 "nbformat_minor": 1
}
